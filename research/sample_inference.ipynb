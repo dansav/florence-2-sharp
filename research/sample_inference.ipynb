{
 "cells": [
  {
   "cell_type": "markdown",
   "id": "a9dc5f2b-ec9d-4438-b6b6-e9969dcc11d2",
   "metadata": {},
   "source": [
    "# Florence-2-large sample usage"
   ]
  },
  {
   "cell_type": "code",
   "execution_count": 40,
   "id": "3a5afc4f-7540-4dce-8d18-ad74db6a22b7",
   "metadata": {},
   "outputs": [],
   "source": [
    "from transformers import AutoProcessor, AutoModelForCausalLM  \n",
    "from PIL import Image\n",
    "import requests\n",
    "import copy\n",
    "import torch\n",
    "%matplotlib inline  "
   ]
  },
  {
   "cell_type": "code",
   "execution_count": 54,
   "id": "998b356b-630d-4b89-8139-1995e31822e7",
   "metadata": {},
   "outputs": [],
   "source": [
    "model_id = 'microsoft/Florence-2-large'\n",
    "model = AutoModelForCausalLM.from_pretrained(model_id, trust_remote_code=True, torch_dtype='auto').eval().cuda()\n",
    "processor = AutoProcessor.from_pretrained(model_id, trust_remote_code=True)"
   ]
  },
  {
   "cell_type": "markdown",
   "id": "54d43102-ba85-4438-b971-063d8677129b",
   "metadata": {},
   "source": [
    "## define the prediction function"
   ]
  },
  {
   "cell_type": "code",
   "execution_count": 62,
   "id": "5427f95b-3c6e-4834-b08f-8af1a38306b7",
   "metadata": {},
   "outputs": [],
   "source": [
    "def run_example(task_prompt, text_input=None):\n",
    "    if text_input is None:\n",
    "        prompt = task_prompt\n",
    "    else:\n",
    "        prompt = task_prompt + text_input\n",
    "    inputs = processor(text=prompt, images=image, return_tensors=\"pt\").to('cuda', torch.float16)\n",
    "    generated_ids = model.generate(\n",
    "      input_ids=inputs[\"input_ids\"].cuda(),\n",
    "      pixel_values=inputs[\"pixel_values\"].cuda(),\n",
    "      max_new_tokens=1024,\n",
    "      early_stopping=False,\n",
    "      do_sample=False,\n",
    "      num_beams=3,\n",
    "    )\n",
    "    generated_text = processor.batch_decode(generated_ids, skip_special_tokens=False)[0]\n",
    "    parsed_answer = processor.post_process_generation(\n",
    "        generated_text, \n",
    "        task=task_prompt, \n",
    "        image_size=(image.width, image.height)\n",
    "    )\n",
    "\n",
    "    return parsed_answer"
   ]
  },
  {
   "cell_type": "markdown",
   "id": "c6f5492d-83ad-44b1-a06b-4c55ecc8abb4",
   "metadata": {},
   "source": [
    "## init image "
   ]
  },
  {
   "cell_type": "code",
   "execution_count": 63,
   "id": "dd464a8e-0f93-465e-a58e-ec69fe739db7",
   "metadata": {},
   "outputs": [],
   "source": [
    "url = \"https://huggingface.co/datasets/huggingface/documentation-images/resolve/main/transformers/tasks/car.jpg?download=true\"\n",
    "image = Image.open(requests.get(url, stream=True).raw)"
   ]
  },
  {
   "cell_type": "code",
   "execution_count": null,
   "id": "c35894f7-42b9-48ee-9718-b2edd01722e4",
   "metadata": {},
   "outputs": [],
   "source": [
    "image"
   ]
  },
  {
   "cell_type": "markdown",
   "id": "a2530935-e270-44d2-bb38-5b2b88ebb0df",
   "metadata": {},
   "source": [
    "## Run pre-defined tasks without additional inputs "
   ]
  },
  {
   "cell_type": "markdown",
   "id": "6cbea76d-1b31-45b4-b3d9-ea8ada73bd7c",
   "metadata": {},
   "source": [
    "### Caption"
   ]
  },
  {
   "cell_type": "code",
   "execution_count": 64,
   "id": "a0804b7f-c6a3-44c5-a5cf-0493e070a3e1",
   "metadata": {},
   "outputs": [
    {
     "data": {
      "text/plain": [
       "{'<CAPTION>': 'A green car parked in front of a yellow building.'}"
      ]
     },
     "execution_count": 64,
     "metadata": {},
     "output_type": "execute_result"
    }
   ],
   "source": [
    "task_prompt = '<CAPTION>'\n",
    "run_example(task_prompt)"
   ]
  },
  {
   "cell_type": "code",
   "execution_count": 65,
   "id": "11700ca3-54dc-4de0-836e-9814cee3a3d2",
   "metadata": {},
   "outputs": [
    {
     "data": {
      "text/plain": [
       "{'<DETAILED_CAPTION>': 'The image shows a blue Volkswagen Beetle parked in front of a yellow building with two brown doors, surrounded by trees and a clear blue sky.'}"
      ]
     },
     "execution_count": 65,
     "metadata": {},
     "output_type": "execute_result"
    }
   ],
   "source": [
    "task_prompt = '<DETAILED_CAPTION>'\n",
    "run_example(task_prompt)"
   ]
  },
  {
   "cell_type": "code",
   "execution_count": 66,
   "id": "005a8ec2-447f-400d-b545-d0577b6bdbc9",
   "metadata": {},
   "outputs": [
    {
     "data": {
      "text/plain": [
       "{'<MORE_DETAILED_CAPTION>': 'The image shows a vintage Volkswagen Beetle car parked on a cobblestone street in front of a yellow building with two wooden doors. The car is painted in a bright turquoise color and has a sleek, streamlined design. It has two doors on either side of the car, one on top of the other, and a small window on the front. The building appears to be old and dilapidated, with peeling paint and crumbling walls. The sky is blue and there are trees in the background.'}"
      ]
     },
     "execution_count": 66,
     "metadata": {},
     "output_type": "execute_result"
    }
   ],
   "source": [
    "task_prompt = '<MORE_DETAILED_CAPTION>'\n",
    "run_example(task_prompt)"
   ]
  },
  {
   "cell_type": "markdown",
   "id": "230bbeed-4f85-4f35-9223-80b7b4e38da1",
   "metadata": {},
   "source": [
    "### Object detection\n",
    "\n",
    "OD results format: \n",
    "{'\\<OD>':\n",
    "    {\n",
    "    'bboxes': [[x1, y1, x2, y2], ...], \n",
    "    'labels': ['label1', 'label2', ...]\n",
    "    } \n",
    "}"
   ]
  },
  {
   "cell_type": "code",
   "execution_count": 67,
   "id": "252a68a3-669d-423c-bd6c-29194ca16e37",
   "metadata": {},
   "outputs": [
    {
     "name": "stdout",
     "output_type": "stream",
     "text": [
      "{'<OD>': {'bboxes': [[33.599998474121094, 159.59999084472656, 596.7999877929688, 371.7599792480469], [454.0799865722656, 96.23999786376953, 580.7999877929688, 261.8399963378906], [224.95999145507812, 86.15999603271484, 333.7599792480469, 164.39999389648438], [449.5999755859375, 276.239990234375, 554.5599975585938, 370.3199768066406], [91.19999694824219, 280.0799865722656, 198.0800018310547, 370.3199768066406]], 'labels': ['car', 'door', 'door', 'wheel', 'wheel']}}\n"
     ]
    }
   ],
   "source": [
    "task_prompt = '<OD>'\n",
    "results = run_example(task_prompt)\n",
    "print(results)"
   ]
  },
  {
   "cell_type": "code",
   "execution_count": 15,
   "id": "0af4db86-1e27-467a-b86c-9d8595d5ab84",
   "metadata": {},
   "outputs": [],
   "source": [
    "import matplotlib.pyplot as plt  \n",
    "import matplotlib.patches as patches  \n",
    "def plot_bbox(image, data):\n",
    "   # Create a figure and axes  \n",
    "    fig, ax = plt.subplots()  \n",
    "      \n",
    "    # Display the image  \n",
    "    ax.imshow(image)  \n",
    "      \n",
    "    # Plot each bounding box  \n",
    "    for bbox, label in zip(data['bboxes'], data['labels']):  \n",
    "        # Unpack the bounding box coordinates  \n",
    "        x1, y1, x2, y2 = bbox  \n",
    "        # Create a Rectangle patch  \n",
    "        rect = patches.Rectangle((x1, y1), x2-x1, y2-y1, linewidth=1, edgecolor='r', facecolor='none')  \n",
    "        # Add the rectangle to the Axes  \n",
    "        ax.add_patch(rect)  \n",
    "        # Annotate the label  \n",
    "        plt.text(x1, y1, label, color='white', fontsize=8, bbox=dict(facecolor='red', alpha=0.5))  \n",
    "      \n",
    "    # Remove the axis ticks and labels  \n",
    "    ax.axis('off')  \n",
    "      \n",
    "    # Show the plot  \n",
    "    plt.show()  "
   ]
  },
  {
   "cell_type": "code",
   "execution_count": null,
   "id": "ce7001f0-b0dd-44da-aae8-f77a3737a97b",
   "metadata": {},
   "outputs": [],
   "source": [
    "plot_bbox(image, results['<OD>'])"
   ]
  },
  {
   "cell_type": "markdown",
   "id": "50558829-44ed-4dec-8512-5ba12efb0bdd",
   "metadata": {},
   "source": [
    "### Dense region caption\n",
    "\n",
    "Dense region caption results format: \n",
    "{'\\<DENSE_REGION_CAPTION>': {'bboxes': [[x1, y1, x2, y2], ...], 'labels': ['label1', 'label2', ...]}}"
   ]
  },
  {
   "cell_type": "code",
   "execution_count": 25,
   "id": "a326bf03-51c8-4784-ae02-3d32ab97fda8",
   "metadata": {},
   "outputs": [
    {
     "name": "stdout",
     "output_type": "stream",
     "text": [
      "{'<DENSE_REGION_CAPTION>': {'bboxes': [[33.599998474121094, 159.59999084472656, 596.7999877929688, 371.7599792480469], [454.0799865722656, 96.72000122070312, 580.1599731445312, 261.8399963378906], [449.5999755859375, 276.239990234375, 554.5599975585938, 370.79998779296875], [91.83999633789062, 280.0799865722656, 198.0800018310547, 370.79998779296875], [224.95999145507812, 86.15999603271484, 333.7599792480469, 164.39999389648438]], 'labels': ['turquoise Volkswagen Beetle', 'wooden double doors with metal handles', 'wheel', 'wheel', 'door']}}\n"
     ]
    }
   ],
   "source": [
    "task_prompt = '<DENSE_REGION_CAPTION>'\n",
    "results = run_example(task_prompt)\n",
    "print(results)"
   ]
  },
  {
   "cell_type": "code",
   "execution_count": null,
   "id": "afad8c29-44cb-4532-bf45-806c344760a8",
   "metadata": {},
   "outputs": [],
   "source": [
    "plot_bbox(image, results['<DENSE_REGION_CAPTION>'])"
   ]
  },
  {
   "cell_type": "markdown",
   "id": "18ea7184-03da-4ede-b1ef-ba458ef2fdd3",
   "metadata": {},
   "source": [
    "### Region proposal\n",
    "\n",
    "Region proposal results format: \n",
    "{'<REGION_PROPOSAL>' : {'bboxes': [[x1, y1, x2, y2], ...], 'labels': ['', '', ...]}}"
   ]
  },
  {
   "cell_type": "code",
   "execution_count": 28,
   "id": "bd26e9a9-8662-491e-a6da-0d9ad3a4a71c",
   "metadata": {},
   "outputs": [
    {
     "name": "stdout",
     "output_type": "stream",
     "text": [
      "{'<REGION_PROPOSAL>': {'bboxes': [[33.599998474121094, 159.59999084472656, 596.7999877929688, 371.7599792480469], [454.0799865722656, 96.23999786376953, 580.7999877929688, 261.8399963378906], [449.5999755859375, 276.239990234375, 554.5599975585938, 370.3199768066406], [91.19999694824219, 280.0799865722656, 198.0800018310547, 370.3199768066406], [224.3199920654297, 85.19999694824219, 333.7599792480469, 164.39999389648438], [274.239990234375, 178.8000030517578, 392.0, 228.239990234375], [165.44000244140625, 178.8000030517578, 264.6399841308594, 230.63999938964844]], 'labels': ['', '', '', '', '', '', '']}}\n"
     ]
    }
   ],
   "source": [
    "task_prompt = '<REGION_PROPOSAL>'\n",
    "results = run_example(task_prompt)\n",
    "print(results)"
   ]
  },
  {
   "cell_type": "code",
   "execution_count": null,
   "id": "43817b0b-89d0-4160-8299-d4a3e4b5cd57",
   "metadata": {},
   "outputs": [],
   "source": [
    "plot_bbox(image, results['<REGION_PROPOSAL>'])"
   ]
  },
  {
   "cell_type": "markdown",
   "id": "c25d31fa-20cf-470d-af1b-a125fc46f9e7",
   "metadata": {},
   "source": [
    "## Run pre-defined tasks that requires additional inputs "
   ]
  },
  {
   "cell_type": "markdown",
   "id": "3f342e2c-4fd0-4705-876c-198bd3320ab6",
   "metadata": {},
   "source": [
    "### Phrase Grounding\n",
    "Phrase grounding results format: \n",
    "{'\\<CAPTION_TO_PHRASE_GROUNDING>': {'bboxes': [[x1, y1, x2, y2], ...], 'labels': ['', '', ...]}}"
   ]
  },
  {
   "cell_type": "code",
   "execution_count": 30,
   "id": "186a5f79-9290-4d1a-bf4f-16f1b5aaf197",
   "metadata": {},
   "outputs": [
    {
     "name": "stdout",
     "output_type": "stream",
     "text": [
      "{'<CAPTION_TO_PHRASE_GROUNDING>': {'bboxes': [[34.23999786376953, 159.1199951171875, 582.0800170898438, 374.6399841308594], [1.5999999046325684, 4.079999923706055, 639.0399780273438, 305.03997802734375]], 'labels': ['A green car', 'a yellow building']}}\n"
     ]
    }
   ],
   "source": [
    "task_prompt = '<CAPTION_TO_PHRASE_GROUNDING>'\n",
    "results = run_example(task_prompt, text_input=\"A green car parked in front of a yellow building.\")\n",
    "print(results)"
   ]
  },
  {
   "cell_type": "code",
   "execution_count": null,
   "id": "675e9231-18ad-4838-ae16-3f2fa4d062d7",
   "metadata": {},
   "outputs": [],
   "source": [
    "plot_bbox(image, results['<CAPTION_TO_PHRASE_GROUNDING>'])"
   ]
  },
  {
   "cell_type": "markdown",
   "id": "5bd75b13-b113-4a4b-acea-5a8562a10ed2",
   "metadata": {},
   "source": [
    "### Referring expression segmentation\n",
    "\n",
    "Referring expression segmentation results format: \n",
    "{'\\<REFERRING_EXPRESSION_SEGMENTATION>': {'Polygons': [[[polygon]], ...], 'labels': ['', '', ...]}}, one object is represented by a list of polygons. each polygon is [x1, y1, x2, y2, ..., xn, yn]"
   ]
  },
  {
   "cell_type": "code",
   "execution_count": 32,
   "id": "7a6411cf-f46f-4eab-9476-9a5641a75a46",
   "metadata": {},
   "outputs": [
    {
     "name": "stdout",
     "output_type": "stream",
     "text": [
      "{'<REFERRING_EXPRESSION_SEGMENTATION>': {'polygons': [[[180.8000030517578, 180.72000122070312, 182.72000122070312, 180.72000122070312, 187.83999633789062, 177.83999633789062, 189.75999450683594, 177.83999633789062, 192.95999145507812, 175.9199981689453, 194.87998962402344, 175.9199981689453, 198.0800018310547, 174.0, 200.63999938964844, 173.0399932861328, 203.83999633789062, 172.0800018310547, 207.0399932861328, 170.63999938964844, 209.59999084472656, 169.67999267578125, 214.0800018310547, 168.72000122070312, 217.9199981689453, 167.75999450683594, 221.75999450683594, 166.8000030517578, 226.239990234375, 165.83999633789062, 230.72000122070312, 164.87998962402344, 237.1199951171875, 163.9199981689453, 244.1599884033203, 162.95999145507812, 253.1199951171875, 162.0, 265.2799987792969, 161.0399932861328, 312.6399841308594, 161.0399932861328, 328.6399841308594, 162.0, 337.6000061035156, 162.95999145507812, 344.6399841308594, 163.9199981689453, 349.7599792480469, 164.87998962402344, 353.6000061035156, 165.83999633789062, 358.0799865722656, 166.8000030517578, 361.91998291015625, 167.75999450683594, 365.7599792480469, 168.72000122070312, 369.6000061035156, 169.67999267578125, 372.79998779296875, 170.63999938964844, 374.7200012207031, 172.0800018310547, 377.91998291015625, 174.95999145507812, 379.8399963378906, 177.83999633789062, 381.7599792480469, 180.72000122070312, 383.67999267578125, 183.59999084472656, 385.6000061035156, 186.95999145507812, 387.5199890136719, 189.83999633789062, 388.79998779296875, 192.72000122070312, 390.7200012207031, 194.63999938964844, 392.0, 197.51998901367188, 393.91998291015625, 200.87998962402344, 395.8399963378906, 203.75999450683594, 397.7599792480469, 206.63999938964844, 399.67999267578125, 209.51998901367188, 402.8800048828125, 212.87998962402344, 404.79998779296875, 212.87998962402344, 406.7200012207031, 213.83999633789062, 408.6399841308594, 215.75999450683594, 408.6399841308594, 217.67999267578125, 410.55999755859375, 219.59999084472656, 412.47998046875, 220.55999755859375, 431.03997802734375, 220.55999755859375, 431.67999267578125, 221.51998901367188, 443.8399963378906, 222.47999572753906, 457.91998291015625, 222.47999572753906, 466.8799743652344, 223.44000244140625, 473.91998291015625, 224.87998962402344, 479.67999267578125, 225.83999633789062, 486.0799865722656, 226.79998779296875, 491.1999816894531, 227.75999450683594, 495.03997802734375, 228.72000122070312, 498.8799743652344, 229.67999267578125, 502.0799865722656, 230.63999938964844, 505.2799987792969, 231.59999084472656, 507.8399963378906, 232.55999755859375, 511.03997802734375, 233.51998901367188, 514.239990234375, 234.47999572753906, 516.7999877929688, 235.4399871826172, 520.0, 237.36000061035156, 521.9199829101562, 237.36000061035156, 534.0800170898438, 243.59999084472656, 537.2799682617188, 245.51998901367188, 541.1199951171875, 249.36000061035156, 544.9599609375, 251.75999450683594, 548.1599731445312, 252.72000122070312, 551.3599853515625, 253.67999267578125, 553.2799682617188, 253.67999267578125, 556.47998046875, 255.59999084472656, 558.3999633789062, 255.59999084472656, 567.3599853515625, 260.3999938964844, 569.2799682617188, 260.3999938964844, 571.2000122070312, 261.3599853515625, 573.1199951171875, 263.2799987792969, 574.3999633789062, 265.67999267578125, 574.3999633789062, 267.6000061035156, 573.1199951171875, 268.55999755859375, 572.47998046875, 271.44000244140625, 572.47998046875, 281.5199890136719, 573.1199951171875, 286.32000732421875, 574.3999633789062, 287.2799987792969, 575.0399780273438, 290.6399841308594, 576.3200073242188, 293.5199890136719, 576.3200073242188, 309.3599853515625, 576.3200073242188, 312.239990234375, 576.3200073242188, 314.1600036621094, 577.5999755859375, 315.1199951171875, 578.239990234375, 318.47998046875, 578.239990234375, 320.3999938964844, 576.3200073242188, 321.3599853515625, 571.2000122070312, 322.32000732421875, 564.1599731445312, 323.2799987792969, 555.2000122070312, 323.2799987792969, 553.2799682617188, 325.1999816894531, 553.2799682617188, 333.3599853515625, 552.0, 337.1999816894531, 551.3599853515625, 340.0799865722656, 550.0800170898438, 343.44000244140625, 548.1599731445312, 345.3599853515625, 546.8800048828125, 348.239990234375, 544.9599609375, 351.1199951171875, 543.0399780273438, 354.47998046875, 534.0800170898438, 363.1199951171875, 530.8800048828125, 365.03997802734375, 525.1199951171875, 368.3999938964844, 521.9199829101562, 369.3599853515625, 518.0800170898438, 370.3199768066406, 496.9599914550781, 370.3199768066406, 491.1999816894531, 369.3599853515625, 488.0, 368.3999938964844, 484.79998779296875, 367.44000244140625, 480.9599914550781, 365.03997802734375, 477.7599792480469, 363.1199951171875, 475.1999816894531, 361.1999816894531, 464.9599914550781, 351.1199951171875, 463.03997802734375, 348.239990234375, 461.1199951171875, 345.3599853515625, 459.8399963378906, 343.44000244140625, 459.8399963378906, 341.03997802734375, 457.91998291015625, 338.1600036621094, 457.91998291015625, 336.239990234375, 456.6399841308594, 334.32000732421875, 454.7200012207031, 332.3999938964844, 452.79998779296875, 333.3599853515625, 448.9599914550781, 337.1999816894531, 447.03997802734375, 338.1600036621094, 426.55999755859375, 337.1999816894531, 424.0, 337.1999816894531, 422.7200012207031, 338.1600036621094, 419.5199890136719, 339.1199951171875, 411.8399963378906, 339.1199951171875, 410.55999755859375, 338.1600036621094, 379.8399963378906, 337.1999816894531, 376.0, 337.1999816894531, 374.7200012207031, 338.1600036621094, 365.7599792480469, 337.1999816894531, 361.91998291015625, 337.1999816894531, 360.6399841308594, 338.1600036621094, 351.67999267578125, 337.1999816894531, 347.8399963378906, 337.1999816894531, 346.55999755859375, 338.1600036621094, 340.79998779296875, 337.1999816894531, 337.6000061035156, 337.1999816894531, 336.9599914550781, 338.1600036621094, 328.6399841308594, 337.1999816894531, 323.5199890136719, 337.1999816894531, 322.8800048828125, 338.1600036621094, 314.55999755859375, 337.1999816894531, 310.7200012207031, 337.1999816894531, 309.44000244140625, 338.1600036621094, 301.7599792480469, 337.1999816894531, 298.55999755859375, 337.1999816894531, 297.91998291015625, 338.1600036621094, 289.6000061035156, 337.1999816894531, 287.67999267578125, 337.1999816894531, 286.3999938964844, 338.1600036621094, 279.3599853515625, 337.1999816894531, 275.5199890136719, 337.1999816894531, 274.239990234375, 338.1600036621094, 267.1999816894531, 337.1999816894531, 265.2799987792969, 337.1999816894531, 264.6399841308594, 338.1600036621094, 256.32000732421875, 337.1999816894531, 254.39999389648438, 337.1999816894531, 253.1199951171875, 338.1600036621094, 246.0800018310547, 337.1999816894531, 244.1599884033203, 337.1999816894531, 243.51998901367188, 338.1600036621094, 235.1999969482422, 337.1999816894531, 232.0, 337.1999816894531, 231.36000061035156, 338.1600036621094, 223.0399932861328, 337.1999816894531, 217.9199981689453, 337.1999816894531, 217.27999877929688, 338.1600036621094, 214.0800018310547, 339.1199951171875, 205.1199951171875, 339.1199951171875, 201.9199981689453, 338.1600036621094, 200.0, 337.1999816894531, 198.0800018310547, 335.2799987792969, 196.1599884033203, 334.32000732421875, 194.239990234375, 334.32000732421875, 191.67999267578125, 336.239990234375, 191.0399932861328, 338.1600036621094, 191.0399932861328, 340.0799865722656, 189.1199951171875, 343.44000244140625, 189.1199951171875, 345.3599853515625, 187.83999633789062, 347.2799987792969, 185.9199981689453, 349.1999816894531, 184.63999938964844, 352.0799865722656, 182.72000122070312, 355.44000244140625, 180.8000030517578, 358.3199768066406, 176.95999145507812, 362.1600036621094, 173.75999450683594, 364.0799865722656, 170.55999755859375, 366.0, 168.63999938964844, 367.44000244140625, 166.0800018310547, 368.3999938964844, 162.87998962402344, 369.3599853515625, 159.67999267578125, 370.3199768066406, 152.63999938964844, 371.2799987792969, 131.52000427246094, 371.2799987792969, 127.68000030517578, 370.3199768066406, 124.47999572753906, 369.3599853515625, 118.7199935913086, 366.0, 115.5199966430664, 364.0799865722656, 111.68000030517578, 361.1999816894531, 106.55999755859375, 356.3999938964844, 104.63999938964844, 353.03997802734375, 103.36000061035156, 350.1600036621094, 101.43999481201172, 348.239990234375, 100.79999542236328, 346.32000732421875, 99.5199966430664, 343.44000244140625, 99.5199966430664, 340.0799865722656, 98.23999786376953, 337.1999816894531, 96.31999969482422, 335.2799987792969, 94.4000015258789, 334.32000732421875, 87.36000061035156, 334.32000732421875, 81.5999984741211, 335.2799987792969, 80.31999969482422, 336.239990234375, 74.55999755859375, 337.1999816894531, 66.23999786376953, 337.1999816894531, 64.31999969482422, 335.2799987792969, 53.439998626708984, 335.2799987792969, 50.23999786376953, 334.32000732421875, 48.31999969482422, 333.3599853515625, 47.03999710083008, 331.44000244140625, 47.03999710083008, 329.03997802734375, 48.31999969482422, 327.1199951171875, 50.23999786376953, 325.1999816894531, 50.23999786376953, 323.2799987792969, 43.20000076293945, 322.32000732421875, 40.0, 321.3599853515625, 38.07999801635742, 320.3999938964844, 37.439998626708984, 318.47998046875, 36.15999984741211, 312.239990234375, 36.15999984741211, 307.44000244140625, 38.07999801635742, 305.5199890136719, 40.0, 304.55999755859375, 43.20000076293945, 303.6000061035156, 46.39999771118164, 302.6399841308594, 53.439998626708984, 301.67999267578125, 66.23999786376953, 301.67999267578125, 68.15999603271484, 299.2799987792969, 69.43999481201172, 297.3599853515625, 69.43999481201172, 293.5199890136719, 68.15999603271484, 292.55999755859375, 67.5199966430664, 287.2799987792969, 67.5199966430664, 277.67999267578125, 68.15999603271484, 274.32000732421875, 69.43999481201172, 272.3999938964844, 73.27999877929688, 268.55999755859375, 75.19999694824219, 267.6000061035156, 78.4000015258789, 266.6399841308594, 80.31999969482422, 266.6399841308594, 82.23999786376953, 264.7200012207031, 81.5999984741211, 260.3999938964844, 81.5999984741211, 258.47998046875, 83.5199966430664, 257.5199890136719, 87.36000061035156, 257.5199890136719, 89.27999877929688, 256.55999755859375, 96.31999969482422, 249.36000061035156, 96.31999969482422, 248.39999389648438, 106.55999755859375, 237.36000061035156, 110.39999389648438, 233.51998901367188, 112.31999969482422, 231.59999084472656, 120.63999938964844, 223.44000244140625, 123.83999633789062, 221.51998901367188, 126.39999389648438, 220.55999755859375, 129.59999084472656, 218.63999938964844, 132.8000030517578, 216.72000122070312, 136.63999938964844, 213.83999633789062, 141.75999450683594, 209.51998901367188, 148.8000030517578, 202.8000030517578, 153.9199981689453, 198.95999145507812, 154.55999755859375, 198.95999145507812, 157.75999450683594, 196.55999755859375, 161.59999084472656, 193.67999267578125, 168.63999938964844, 186.95999145507812, 171.83999633789062, 186.0, 173.75999450683594, 183.59999084472656, 178.87998962402344, 181.67999267578125, 180.8000030517578, 179.75999450683594]]], 'labels': ['']}}\n"
     ]
    }
   ],
   "source": [
    "task_prompt = '<REFERRING_EXPRESSION_SEGMENTATION>'\n",
    "results = run_example(task_prompt, text_input=\"a green car\")\n",
    "print(results)"
   ]
  },
  {
   "cell_type": "code",
   "execution_count": 74,
   "id": "c8d70c16-233f-4495-bebc-31a0260d3f3e",
   "metadata": {},
   "outputs": [],
   "source": [
    "from PIL import Image, ImageDraw, ImageFont \n",
    "import random\n",
    "import numpy as np\n",
    "colormap = ['blue','orange','green','purple','brown','pink','gray','olive','cyan','red',\n",
    "            'lime','indigo','violet','aqua','magenta','coral','gold','tan','skyblue']\n",
    "def draw_polygons(image, prediction, fill_mask=False):  \n",
    "    \"\"\"  \n",
    "    Draws segmentation masks with polygons on an image.  \n",
    "  \n",
    "    Parameters:  \n",
    "    - image_path: Path to the image file.  \n",
    "    - prediction: Dictionary containing 'polygons' and 'labels' keys.  \n",
    "                  'polygons' is a list of lists, each containing vertices of a polygon.  \n",
    "                  'labels' is a list of labels corresponding to each polygon.  \n",
    "    - fill_mask: Boolean indicating whether to fill the polygons with color.  \n",
    "    \"\"\"  \n",
    "    # Load the image  \n",
    "   \n",
    "    draw = ImageDraw.Draw(image)  \n",
    "      \n",
    "   \n",
    "    # Set up scale factor if needed (use 1 if not scaling)  \n",
    "    scale = 1  \n",
    "      \n",
    "    # Iterate over polygons and labels  \n",
    "    for polygons, label in zip(prediction['polygons'], prediction['labels']):  \n",
    "        color = random.choice(colormap)  \n",
    "        fill_color = random.choice(colormap) if fill_mask else None  \n",
    "          \n",
    "        for _polygon in polygons:  \n",
    "            _polygon = np.array(_polygon).reshape(-1, 2)  \n",
    "            if len(_polygon) < 3:  \n",
    "                print('Invalid polygon:', _polygon)  \n",
    "                continue  \n",
    "              \n",
    "            _polygon = (_polygon * scale).reshape(-1).tolist()  \n",
    "              \n",
    "            # Draw the polygon  \n",
    "            if fill_mask:  \n",
    "                draw.polygon(_polygon, outline=color, fill=fill_color)  \n",
    "            else:  \n",
    "                draw.polygon(_polygon, outline=color)  \n",
    "              \n",
    "            # Draw the label text  \n",
    "            draw.text((_polygon[0] + 8, _polygon[1] + 2), label, fill=color)  \n",
    "  \n",
    "    # Save or display the image  \n",
    "    #image.show()  # Display the image  \n",
    "    display(image)"
   ]
  },
  {
   "cell_type": "code",
   "execution_count": null,
   "id": "deb6b429-74ac-4226-be23-94b69242fe40",
   "metadata": {},
   "outputs": [],
   "source": [
    "output_image = copy.deepcopy(image)\n",
    "draw_polygons(output_image, results['<REFERRING_EXPRESSION_SEGMENTATION>'], fill_mask=True)  "
   ]
  },
  {
   "cell_type": "markdown",
   "id": "eed56632-9052-4c4e-9426-f8538889cb6a",
   "metadata": {},
   "source": [
    "### region to segmentation\n",
    "\n",
    "\n",
    "with additional region as inputs, format is '\\<loc_x1>\\<loc_y1>\\<loc_x2>\\<loc_y2>', [x1, y1, x2, y2] is the quantized corrdinates in [0, 999]. "
   ]
  },
  {
   "cell_type": "code",
   "execution_count": 35,
   "id": "bed60a42-78ff-455c-b0d6-a3e25c0d801d",
   "metadata": {},
   "outputs": [
    {
     "name": "stdout",
     "output_type": "stream",
     "text": [
      "{'<REGION_TO_SEGMENTATION>': {'polygons': [[[468.79998779296875, 288.239990234375, 472.6399841308594, 285.3599853515625, 475.8399963378906, 283.44000244140625, 477.7599792480469, 282.47998046875, 479.67999267578125, 282.47998046875, 482.8799743652344, 280.55999755859375, 485.44000244140625, 279.6000061035156, 488.6399841308594, 278.6399841308594, 491.8399963378906, 277.67999267578125, 497.5999755859375, 276.7200012207031, 511.67999267578125, 276.7200012207031, 514.8800048828125, 277.67999267578125, 518.0800170898438, 278.6399841308594, 520.6400146484375, 280.55999755859375, 522.5599975585938, 280.55999755859375, 524.47998046875, 282.47998046875, 527.6799926757812, 283.44000244140625, 530.8800048828125, 285.3599853515625, 534.0800170898438, 287.2799987792969, 543.0399780273438, 296.3999938964844, 544.9599609375, 299.2799987792969, 546.8800048828125, 302.1600036621094, 548.7999877929688, 306.47998046875, 548.7999877929688, 308.3999938964844, 550.719970703125, 311.2799987792969, 552.0, 314.1600036621094, 552.6400146484375, 318.47998046875, 552.6400146484375, 333.3599853515625, 552.0, 337.1999816894531, 550.719970703125, 340.0799865722656, 550.0800170898438, 343.44000244140625, 548.7999877929688, 345.3599853515625, 546.8800048828125, 347.2799987792969, 545.5999755859375, 350.1600036621094, 543.6799926757812, 353.03997802734375, 541.760009765625, 356.3999938964844, 536.0, 362.1600036621094, 532.7999877929688, 364.0799865722656, 529.5999755859375, 366.0, 527.6799926757812, 366.9599914550781, 525.760009765625, 366.9599914550781, 522.5599975585938, 369.3599853515625, 518.0800170898438, 370.3199768066406, 495.67999267578125, 370.3199768066406, 489.91998291015625, 369.3599853515625, 486.7200012207031, 368.3999938964844, 483.5199890136719, 366.9599914550781, 479.67999267578125, 365.03997802734375, 476.47998046875, 363.1199951171875, 473.91998291015625, 361.1999816894531, 465.5999755859375, 353.03997802734375, 462.3999938964844, 349.1999816894531, 460.47998046875, 346.32000732421875, 458.55999755859375, 342.47998046875, 457.91998291015625, 339.1199951171875, 456.6399841308594, 336.239990234375, 455.3599853515625, 333.3599853515625, 454.7200012207031, 329.5199890136719, 454.7200012207031, 315.1199951171875, 455.3599853515625, 310.32000732421875, 456.6399841308594, 306.47998046875, 457.91998291015625, 303.1199951171875, 459.8399963378906, 300.239990234375, 459.8399963378906, 298.32000732421875, 460.47998046875, 296.3999938964844, 462.3999938964844, 293.5199890136719, 465.5999755859375, 289.1999816894531]]], 'labels': ['']}}\n"
     ]
    }
   ],
   "source": [
    "task_prompt = '<REGION_TO_SEGMENTATION>'\n",
    "results = run_example(task_prompt, text_input=\"<loc_702><loc_575><loc_866><loc_772>\")\n",
    "print(results)"
   ]
  },
  {
   "cell_type": "code",
   "execution_count": null,
   "id": "e36876be-d9a2-4601-9c37-704224237ffa",
   "metadata": {},
   "outputs": [],
   "source": [
    "output_image = copy.deepcopy(image)\n",
    "draw_polygons(output_image, results['<REGION_TO_SEGMENTATION>'], fill_mask=True)  "
   ]
  },
  {
   "cell_type": "markdown",
   "id": "3accf12e-3441-4d3e-86e3-d5755601d7ce",
   "metadata": {},
   "source": [
    "### Open vocabulary detection\n",
    "\n",
    "open vocabulary detection can detect both objects and ocr texts. \n",
    "\n",
    "results format: \n",
    "\n",
    "{ '\\<OPEN_VOCABULARY_DETECTION>': {'bboxes': [[x1, y1, x2, y2], [x1, y1, x2, y2], ...]], 'bboxes_labels': ['label_1', 'label_2', ..],\n",
    "'polygons': [[[x1, y1, x2, y2, ..., xn, yn], [x1, y1, ..., xn, yn]], ...], 'polygons_labels': ['label_1', 'label_2', ...]\n",
    "}}"
   ]
  },
  {
   "cell_type": "code",
   "execution_count": 38,
   "id": "43333b69-5484-4c16-b3cf-331d74c36780",
   "metadata": {},
   "outputs": [
    {
     "name": "stdout",
     "output_type": "stream",
     "text": [
      "{'<OPEN_VOCABULARY_DETECTION>': {'bboxes': [[34.23999786376953, 158.63999938964844, 582.0800170898438, 374.1600036621094]], 'bboxes_labels': ['a green car'], 'polygons': [], 'polygons_labels': []}}\n"
     ]
    }
   ],
   "source": [
    "task_prompt = '<OPEN_VOCABULARY_DETECTION>'\n",
    "results = run_example(task_prompt, text_input=\"a green car\")\n",
    "print(results)"
   ]
  },
  {
   "cell_type": "code",
   "execution_count": 39,
   "id": "1ec2965e-c621-4c33-86db-72e8c85c491c",
   "metadata": {},
   "outputs": [],
   "source": [
    "def convert_to_od_format(data):  \n",
    "    \"\"\"  \n",
    "    Converts a dictionary with 'bboxes' and 'bboxes_labels' into a dictionary with separate 'bboxes' and 'labels' keys.  \n",
    "  \n",
    "    Parameters:  \n",
    "    - data: The input dictionary with 'bboxes', 'bboxes_labels', 'polygons', and 'polygons_labels' keys.  \n",
    "  \n",
    "    Returns:  \n",
    "    - A dictionary with 'bboxes' and 'labels' keys formatted for object detection results.  \n",
    "    \"\"\"  \n",
    "    # Extract bounding boxes and labels  \n",
    "    bboxes = data.get('bboxes', [])  \n",
    "    labels = data.get('bboxes_labels', [])  \n",
    "      \n",
    "    # Construct the output format  \n",
    "    od_results = {  \n",
    "        'bboxes': bboxes,  \n",
    "        'labels': labels  \n",
    "    }  \n",
    "      \n",
    "    return od_results  "
   ]
  },
  {
   "cell_type": "code",
   "execution_count": 40,
   "id": "89801c1e-6fcf-44e1-87f6-12162bb9a260",
   "metadata": {},
   "outputs": [],
   "source": [
    "bbox_results  = convert_to_od_format(results['<OPEN_VOCABULARY_DETECTION>'])"
   ]
  },
  {
   "cell_type": "code",
   "execution_count": null,
   "id": "f76424b2-ca13-4773-9506-66bc5eb1d5bd",
   "metadata": {},
   "outputs": [],
   "source": [
    "plot_bbox(image, bbox_results)"
   ]
  },
  {
   "cell_type": "markdown",
   "id": "9a1ffcf4-4404-4b6d-aee8-6c055da51301",
   "metadata": {},
   "source": [
    "### region to texts"
   ]
  },
  {
   "cell_type": "code",
   "execution_count": 42,
   "id": "2ab6b602-faea-448b-992e-12b55741ba3f",
   "metadata": {},
   "outputs": [
    {
     "name": "stdout",
     "output_type": "stream",
     "text": [
      "{'<REGION_TO_CATEGORY>': 'car<loc_52><loc_332><loc_932><loc_774>'}\n"
     ]
    }
   ],
   "source": [
    "task_prompt = '<REGION_TO_CATEGORY>'\n",
    "results = run_example(task_prompt, text_input=\"<loc_52><loc_332><loc_932><loc_774>\")\n",
    "print(results)"
   ]
  },
  {
   "cell_type": "code",
   "execution_count": 43,
   "id": "60f6081c-751c-47bd-a931-99337861b588",
   "metadata": {},
   "outputs": [
    {
     "name": "stdout",
     "output_type": "stream",
     "text": [
      "{'<REGION_TO_DESCRIPTION>': 'turquoise Volkswagen Beetle<loc_52><loc_332><loc_932><loc_774>'}\n"
     ]
    }
   ],
   "source": [
    "task_prompt = '<REGION_TO_DESCRIPTION>'\n",
    "results = run_example(task_prompt, text_input=\"<loc_52><loc_332><loc_932><loc_774>\")\n",
    "print(results)"
   ]
  },
  {
   "cell_type": "markdown",
   "id": "1dee1c41-0e99-41e8-b647-373cf84aa6a7",
   "metadata": {},
   "source": [
    "## ocr related tasks"
   ]
  },
  {
   "cell_type": "code",
   "execution_count": 108,
   "id": "b996738d-e8ab-4223-ad61-cb0f97658f74",
   "metadata": {},
   "outputs": [],
   "source": [
    "url = \"http://ecx.images-amazon.com/images/I/51UUzBDAMsL.jpg?download=true\"\n",
    "image = Image.open(requests.get(url, stream=True).raw).convert('RGB')"
   ]
  },
  {
   "cell_type": "code",
   "execution_count": null,
   "id": "c06fadf9-bbb6-48f0-9222-cbd4d611bd97",
   "metadata": {},
   "outputs": [],
   "source": [
    "image"
   ]
  },
  {
   "cell_type": "code",
   "execution_count": 112,
   "id": "a478371e-9ca9-444a-8ef1-c30be4b9ef7b",
   "metadata": {},
   "outputs": [
    {
     "data": {
      "text/plain": [
       "{'<OCR>': 'CUDAFOR ENGINEERSAn Introduction to High-PerformanceParallel ComputingDUANE STORTIMETE YURTOGLU'}"
      ]
     },
     "execution_count": 112,
     "metadata": {},
     "output_type": "execute_result"
    }
   ],
   "source": [
    "task_prompt = '<OCR>'\n",
    "run_example(task_prompt)"
   ]
  },
  {
   "cell_type": "code",
   "execution_count": 113,
   "id": "0e659469-9b0e-4dec-bec0-917b08a03622",
   "metadata": {},
   "outputs": [
    {
     "name": "stdout",
     "output_type": "stream",
     "text": [
      "{'<OCR_WITH_REGION>': {'quad_boxes': [[167.0435028076172, 50.25, 376.20050048828125, 50.25, 376.20050048828125, 114.75, 167.0435028076172, 114.75], [144.8784942626953, 120.75, 375.3945007324219, 120.75, 375.3945007324219, 149.25, 144.8784942626953, 149.25], [115.86249542236328, 165.25, 376.20050048828125, 166.25, 376.20050048828125, 184.25, 115.86249542236328, 183.25], [239.9864959716797, 184.25, 376.20050048828125, 186.25, 376.20050048828125, 204.25, 239.9864959716797, 202.25], [266.1814880371094, 441.25, 376.20050048828125, 441.25, 376.20050048828125, 456.25, 266.1814880371094, 456.25], [252.0764923095703, 460.25, 376.20050048828125, 460.25, 376.20050048828125, 475.25, 252.0764923095703, 475.25]], 'labels': ['</s>CUDA', 'FOR ENGINEERS', 'An Introduction to High-Performance', 'Parallel Computing', 'DUANE STORTI', 'METE YURTOGLU']}}\n"
     ]
    }
   ],
   "source": [
    "task_prompt = '<OCR_WITH_REGION>'\n",
    "results = run_example(task_prompt)\n",
    "print(results)\n",
    "# ocr results format\n",
    "# {'OCR_WITH_REGION': {'quad_boxes': [[x1, y1, x2, y2, x3, y3, x4, y4], ...], 'labels': ['text1', ...]}}"
   ]
  },
  {
   "cell_type": "code",
   "execution_count": 114,
   "id": "f74d068b-2787-441a-a1c6-ddc0df402d6f",
   "metadata": {},
   "outputs": [],
   "source": [
    "def draw_ocr_bboxes(image, prediction, scale=1):\n",
    "    draw = ImageDraw.Draw(image)\n",
    "    bboxes, labels = prediction['quad_boxes'], prediction['labels']\n",
    "    for box, label in zip(bboxes, labels):\n",
    "        color = random.choice(colormap)\n",
    "        new_box = (np.array(box) * scale).tolist()\n",
    "        draw.polygon(new_box, width=3, outline=color)\n",
    "        draw.text((new_box[0]+8, new_box[1]+2),\n",
    "                    \"{}\".format(label),\n",
    "                    align=\"right\",\n",
    "        \n",
    "                    fill=color)\n",
    "       \n",
    "    display(image)"
   ]
  },
  {
   "cell_type": "code",
   "execution_count": null,
   "id": "d7fc232a-2771-4f34-b3c2-a2ff92d4df4f",
   "metadata": {},
   "outputs": [],
   "source": [
    "output_image = copy.deepcopy(image)\n",
    "w, h = output_image.size\n",
    "scale = 800 / max(w, h)\n",
    "new_output_image = output_image.resize((int(w * scale), int(h * scale)))\n",
    "draw_ocr_bboxes(new_output_image, results['<OCR_WITH_REGION>'], scale=scale)  "
   ]
  },
  {
   "cell_type": "markdown",
   "id": "3c654ffe-66d2-48e1-98eb-ab5aa6d460a4",
   "metadata": {},
   "source": [
    "## Cascaded tasks"
   ]
  },
  {
   "cell_type": "markdown",
   "id": "2d9752c6-f4d3-47f0-9bed-05ad06afe126",
   "metadata": {},
   "source": [
    "### Caption + Phrase Grounding \n",
    "\n",
    "results format: \n",
    "\n",
    "{\n",
    " '\\<CAPTION': pure_text, \n",
    "{'\\<CAPTION_TO_PHRASE_GROUNDING>': {'bboxes': [[x1, y1, x2, y2], ...], 'labels': ['', '', ...]}}\n",
    "}"
   ]
  },
  {
   "cell_type": "code",
   "execution_count": 14,
   "id": "99b59013-e15d-403b-9171-3989ab6f190a",
   "metadata": {},
   "outputs": [],
   "source": [
    "url = \"https://huggingface.co/datasets/huggingface/documentation-images/resolve/main/transformers/tasks/car.jpg?download=true\"\n",
    "image = Image.open(requests.get(url, stream=True).raw)"
   ]
  },
  {
   "cell_type": "code",
   "execution_count": 12,
   "id": "4e999741-297b-40e8-a1db-b0a718abb445",
   "metadata": {},
   "outputs": [],
   "source": [
    "task_prompt = '<CAPTION>'\n",
    "results = run_example(task_prompt)\n",
    "text_input = results[task_prompt]\n",
    "task_prompt = '<CAPTION_TO_PHRASE_GROUNDING>'\n",
    "results = run_example(task_prompt, text_input)\n",
    "results['<CAPTION>'] = text_input"
   ]
  },
  {
   "cell_type": "code",
   "execution_count": 13,
   "id": "fc9a2c37-6cf3-4814-bfe2-073d9a55532f",
   "metadata": {},
   "outputs": [
    {
     "data": {
      "text/plain": [
       "{'<CAPTION_TO_PHRASE_GROUNDING>': {'bboxes': [[34.23999786376953,\n",
       "    159.1199951171875,\n",
       "    582.0800170898438,\n",
       "    374.6399841308594],\n",
       "   [1.5999999046325684,\n",
       "    4.079999923706055,\n",
       "    639.0399780273438,\n",
       "    305.03997802734375]],\n",
       "  'labels': ['A green car', 'a yellow building']},\n",
       " '<CAPTION>': 'A green car parked in front of a yellow building.'}"
      ]
     },
     "execution_count": 13,
     "metadata": {},
     "output_type": "execute_result"
    }
   ],
   "source": [
    "results"
   ]
  },
  {
   "cell_type": "code",
   "execution_count": null,
   "id": "299fb9f8-7af1-49d7-837c-e4c11057e49b",
   "metadata": {},
   "outputs": [],
   "source": [
    "plot_bbox(image, results['<CAPTION_TO_PHRASE_GROUNDING>'])"
   ]
  },
  {
   "cell_type": "markdown",
   "id": "b6791895-df97-4538-ba21-4e8802415e3c",
   "metadata": {},
   "source": [
    "### Detailed Caption + Phrase Grounding \n",
    "\n",
    "results format: \n",
    "\n",
    "{\n",
    " '\\<DETAILED_CAPTION': pure_text, \n",
    "{'\\<CAPTION_TO_PHRASE_GROUNDING>': {'bboxes': [[x1, y1, x2, y2], ...], 'labels': ['', '', ...]}}\n",
    "}"
   ]
  },
  {
   "cell_type": "code",
   "execution_count": 17,
   "id": "a60f448c-28b2-4f22-902f-04ae8a159b41",
   "metadata": {},
   "outputs": [],
   "source": [
    "task_prompt = '<DETAILED_CAPTION>'\n",
    "results = run_example(task_prompt)\n",
    "text_input = results[task_prompt]\n",
    "task_prompt = '<CAPTION_TO_PHRASE_GROUNDING>'\n",
    "results = run_example(task_prompt, text_input)\n",
    "results['<DETAILED_CAPTION>'] = text_input"
   ]
  },
  {
   "cell_type": "code",
   "execution_count": 18,
   "id": "057b415c-7ccb-4270-9ddf-3235f3b57a95",
   "metadata": {},
   "outputs": [
    {
     "data": {
      "text/plain": [
       "{'<CAPTION_TO_PHRASE_GROUNDING>': {'bboxes': [[33.599998474121094,\n",
       "    158.63999938964844,\n",
       "    582.719970703125,\n",
       "    375.1199951171875],\n",
       "   [1.5999999046325684, 5.039999961853027, 639.0399780273438, 306.0],\n",
       "   [452.79998779296875,\n",
       "    94.31999969482422,\n",
       "    582.0800170898438,\n",
       "    265.67999267578125],\n",
       "   [222.39999389648438,\n",
       "    84.23999786376953,\n",
       "    335.03997802734375,\n",
       "    167.27999877929688],\n",
       "   [2.240000009536743,\n",
       "    1.1999999284744263,\n",
       "    639.0399780273438,\n",
       "    43.91999816894531],\n",
       "   [343.3599853515625,\n",
       "    1.1999999284744263,\n",
       "    639.0399780273438,\n",
       "    40.55999755859375],\n",
       "   [2.240000009536743,\n",
       "    1.1999999284744263,\n",
       "    638.3999633789062,\n",
       "    43.91999816894531],\n",
       "   [18.239999771118164,\n",
       "    1.1999999284744263,\n",
       "    104.63999938964844,\n",
       "    45.36000061035156]],\n",
       "  'labels': ['a blue Volkswagen Beetle',\n",
       "   'a yellow building',\n",
       "   'brown doors',\n",
       "   'brown doors',\n",
       "   'trees',\n",
       "   'trees',\n",
       "   'a clear blue sky',\n",
       "   'a clear blue sky']},\n",
       " '<DETAILED_CAPTION>': 'The image shows a blue Volkswagen Beetle parked in front of a yellow building with two brown doors, surrounded by trees and a clear blue sky.'}"
      ]
     },
     "execution_count": 18,
     "metadata": {},
     "output_type": "execute_result"
    }
   ],
   "source": [
    "results"
   ]
  },
  {
   "cell_type": "code",
   "execution_count": null,
   "id": "e21e9afb-5148-4314-86f7-f067aaecd015",
   "metadata": {},
   "outputs": [],
   "source": [
    "plot_bbox(image, results['<CAPTION_TO_PHRASE_GROUNDING>'])"
   ]
  },
  {
   "cell_type": "markdown",
   "id": "12497689-6c8f-4143-bc76-feca9d81d766",
   "metadata": {},
   "source": [
    "### More Detailed Caption + Phrase Grounding \n",
    "\n",
    "results format: \n",
    "\n",
    "{\n",
    " '\\<MORE_DETAILED_CAPTION': pure_text, \n",
    "{'\\<CAPTION_TO_PHRASE_GROUNDING>': {'bboxes': [[x1, y1, x2, y2], ...], 'labels': ['', '', ...]}}\n",
    "}"
   ]
  },
  {
   "cell_type": "code",
   "execution_count": 21,
   "id": "c207af84-f92a-4325-b3d9-059e6c8624d4",
   "metadata": {},
   "outputs": [],
   "source": [
    "task_prompt = '<MORE_DETAILED_CAPTION>'\n",
    "results = run_example(task_prompt)\n",
    "text_input = results[task_prompt]\n",
    "task_prompt = '<CAPTION_TO_PHRASE_GROUNDING>'\n",
    "results = run_example(task_prompt, text_input)\n",
    "results['<MORE_DETAILED_CAPTION>'] = text_input"
   ]
  },
  {
   "cell_type": "code",
   "execution_count": 22,
   "id": "d6417253-d6f2-4c79-a9fa-3cdc125c6cf7",
   "metadata": {},
   "outputs": [
    {
     "data": {
      "text/plain": [
       "{'<CAPTION_TO_PHRASE_GROUNDING>': {'bboxes': [[35.52000045776367,\n",
       "    157.67999267578125,\n",
       "    581.4400024414062,\n",
       "    372.7200012207031],\n",
       "   [1.5999999046325684,\n",
       "    340.0799865722656,\n",
       "    639.0399780273438,\n",
       "    479.2799987792969],\n",
       "   [454.0799865722656,\n",
       "    93.83999633789062,\n",
       "    580.7999877929688,\n",
       "    263.2799987792969],\n",
       "   [223.67999267578125,\n",
       "    84.23999786376953,\n",
       "    333.7599792480469,\n",
       "    163.9199981689453],\n",
       "   [36.79999923706055,\n",
       "    157.67999267578125,\n",
       "    580.1599731445312,\n",
       "    372.239990234375],\n",
       "   [454.0799865722656,\n",
       "    93.83999633789062,\n",
       "    581.4400024414062,\n",
       "    263.2799987792969],\n",
       "   [223.67999267578125,\n",
       "    84.72000122070312,\n",
       "    333.7599792480469,\n",
       "    163.9199981689453],\n",
       "   [164.16000366210938,\n",
       "    177.36000061035156,\n",
       "    265.2799987792969,\n",
       "    232.0800018310547],\n",
       "   [2.879999876022339,\n",
       "    4.559999942779541,\n",
       "    639.0399780273438,\n",
       "    301.1999816894531],\n",
       "   [19.520000457763672, 1.1999999284744263, 639.0399780273438, 42.0],\n",
       "   [20.15999984741211,\n",
       "    0.7199999690055847,\n",
       "    102.07999420166016,\n",
       "    42.959999084472656],\n",
       "   [345.91998291015625,\n",
       "    1.1999999284744263,\n",
       "    639.0399780273438,\n",
       "    37.68000030517578]],\n",
       "  'labels': ['a vintage Volkswagen Beetle car',\n",
       "   'a cobblestone street',\n",
       "   'wooden doors',\n",
       "   'wooden doors',\n",
       "   'The car',\n",
       "   'doors',\n",
       "   'doors',\n",
       "   'small window',\n",
       "   'The building',\n",
       "   'The sky',\n",
       "   'The sky',\n",
       "   'trees']},\n",
       " '<MORE_DETAILED_CAPTION>': 'The image shows a vintage Volkswagen Beetle car parked on a cobblestone street in front of a yellow building with two wooden doors. The car is painted in a bright turquoise color and has a sleek, streamlined design. It has two doors on either side of the car, one on top of the other, and a small window on the front. The building appears to be old and dilapidated, with peeling paint and crumbling walls. The sky is blue and there are trees in the background.'}"
      ]
     },
     "execution_count": 22,
     "metadata": {},
     "output_type": "execute_result"
    }
   ],
   "source": [
    "results"
   ]
  },
  {
   "cell_type": "code",
   "execution_count": null,
   "id": "eed4db16-d9c4-49ec-878a-13acffffe99a",
   "metadata": {},
   "outputs": [],
   "source": [
    "plot_bbox(image, results['<CAPTION_TO_PHRASE_GROUNDING>'])"
   ]
  }
 ],
 "metadata": {
  "kernelspec": {
   "display_name": "Python 3 (ipykernel)",
   "language": "python",
   "name": "python3"
  },
  "language_info": {
   "codemirror_mode": {
    "name": "ipython",
    "version": 3
   },
   "file_extension": ".py",
   "mimetype": "text/x-python",
   "name": "python",
   "nbconvert_exporter": "python",
   "pygments_lexer": "ipython3",
   "version": "3.10.14"
  }
 },
 "nbformat": 4,
 "nbformat_minor": 5
}
